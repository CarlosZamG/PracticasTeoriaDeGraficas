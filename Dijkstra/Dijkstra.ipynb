{
  "cells": [
    {
      "cell_type": "markdown",
      "metadata": {
        "id": "9L9bxP-AOCqh"
      },
      "source": [
        "# Algoritmo de Dijkstra\n",
        "\n",
        "Integrantes del equipo:\n",
        "\n",
        "1. Porfirio Damián Escamilla Huerta.\n",
        "2. Omar Porfirio García.\n",
        "3. Carlos David Zamora Gutiérrez. \n",
        "\n",
        "Licenciatura en Matemática Algorítmica.\n",
        "\n",
        "**Escuela Superior de Física y Matemáticas**.\n",
        "\n",
        "Grupo: 3AM1.\n",
        "\n",
        "Teoría de Gráficas.\n",
        "\n",
        "Profesor: David Fernández Bretón.\n",
        "\n",
        "El siguiente trabajo presenta una implementación en Python del Algoritmo de Dijkstra para encontrar el camino más corto en una gráfica. "
      ]
    },
    {
      "cell_type": "markdown",
      "metadata": {
        "id": "_5-LgbqaP4Z2"
      },
      "source": [
        "Primero importaremos el módulo `sys` de Python para poder utilizar `sys.maxsize` que es el valor más grande que una variable puede almacenar en Python (depende de la arquitectura), este valor lo usaremos como nuestro $∞$. "
      ]
    },
    {
      "cell_type": "code",
      "execution_count": 1,
      "metadata": {
        "id": "aNkUZRPOgjHJ"
      },
      "outputs": [],
      "source": [
        "import sys\n",
        "from curses.ascii import isdigit\n"
      ]
    },
    {
      "cell_type": "code",
      "execution_count": 2,
      "metadata": {
        "colab": {
          "base_uri": "https://localhost:8080/"
        },
        "id": "pAioK-qIgqKt",
        "outputId": "098571ce-fc98-4618-e9eb-382266a947ef"
      },
      "outputs": [
        {
          "data": {
            "text/plain": [
              "9223372036854775807"
            ]
          },
          "execution_count": 2,
          "metadata": {},
          "output_type": "execute_result"
        }
      ],
      "source": [
        "sys.maxsize"
      ]
    },
    {
      "cell_type": "markdown",
      "metadata": {
        "id": "yeBcsuWZRQJY"
      },
      "source": [
        "El programa utiliza una lista de 3-tuplas, donde cada tupla es de la forma: \n",
        "\n",
        "**(extremo, extremo , peso)** \n",
        "\n",
        "y nos sirve para representar las aristas de la gráfica:\n"
      ]
    },
    {
      "cell_type": "code",
      "execution_count": 3,
      "metadata": {
        "id": "V6DVbBygE7Xa"
      },
      "outputs": [],
      "source": [
        "aristas = [\n",
        "    (\"Buenavista\",\"Guerrero\",6),\n",
        "    (\"Guerrero\",\"Garibaldi\",7),\n",
        "    (\"Garibaldi\",\"Lagunilla\",6),\n",
        "    (\"Guerrero\",\"Hidalgo\",8),\n",
        "    (\"Garibaldi\",\"Bellas Artes\",11),\n",
        "    (\"San Cosme\",\"Revolucion\",6),\n",
        "    (\"Revolucion\",\"Hidalgo\",5),\n",
        "    (\"Hidalgo\",\"Bellas Artes\",9),\n",
        "    (\"Bellas Artes\",\"Allende\",10),\n",
        "    (\"Allende\",\"Zocalo\",5),\n",
        "    (\"Hidalgo\",\"Juarez\",4),\n",
        "    (\"Juarez\",\"Balderas\",14),\n",
        "    (\"Bellas Artes\",\"San Juan de Letran\",5),\n",
        "    (\"San Juan de Letran\",\"Salto del agua\",6),\n",
        "    (\"Cuauhtemoc\",\"Balderas\",13),\n",
        "    (\"Balderas\",\"Salto del agua\",9),\n",
        "]"
      ]
    },
    {
      "cell_type": "markdown",
      "metadata": {
        "id": "6ASdFx3oTsIz"
      },
      "source": [
        "En la siguiente parte del código lo que hacemos es crear una lista de los vértices a partir de la lista de aristas. Después inicializamos la matriz `M`, que será nuestra **matriz de adyacencia** como una matriz de ceros."
      ]
    },
    {
      "cell_type": "code",
      "execution_count": 4,
      "metadata": {
        "id": "Kswk0W8PGFHZ"
      },
      "outputs": [],
      "source": [
        "vertices = []\n",
        "# Agregamos todos los vértices:\n",
        "for a in aristas:\n",
        "  vertices.append(a[0])\n",
        "  vertices.append(a[1])\n",
        "\n",
        "# Eliminamos los vértices repetidos:\n",
        "vertices = list(dict.fromkeys(vertices))\n",
        "\n",
        "# Inicializamos la matriz de adyacencia en ceros\n",
        "M =[ [0 for v in vertices] for v in vertices]\n"
      ]
    },
    {
      "cell_type": "code",
      "execution_count": 5,
      "metadata": {
        "colab": {
          "base_uri": "https://localhost:8080/"
        },
        "id": "ibUGh1IRHFII",
        "outputId": "757a802f-5159-4524-aee6-34156bd5a2dd"
      },
      "outputs": [
        {
          "data": {
            "text/plain": [
              "['Buenavista',\n",
              " 'Guerrero',\n",
              " 'Garibaldi',\n",
              " 'Lagunilla',\n",
              " 'Hidalgo',\n",
              " 'Bellas Artes',\n",
              " 'San Cosme',\n",
              " 'Revolucion',\n",
              " 'Allende',\n",
              " 'Zocalo',\n",
              " 'Juarez',\n",
              " 'Balderas',\n",
              " 'San Juan de Letran',\n",
              " 'Salto del agua',\n",
              " 'Cuauhtemoc']"
            ]
          },
          "execution_count": 5,
          "metadata": {},
          "output_type": "execute_result"
        }
      ],
      "source": [
        "vertices"
      ]
    },
    {
      "cell_type": "code",
      "execution_count": 6,
      "metadata": {
        "colab": {
          "base_uri": "https://localhost:8080/"
        },
        "id": "oE7sXhN-V7eB",
        "outputId": "e7c8648c-5b2f-4edc-b143-a199cb2e83ec"
      },
      "outputs": [
        {
          "data": {
            "text/plain": [
              "[[0, 0, 0, 0, 0, 0, 0, 0, 0, 0, 0, 0, 0, 0, 0],\n",
              " [0, 0, 0, 0, 0, 0, 0, 0, 0, 0, 0, 0, 0, 0, 0],\n",
              " [0, 0, 0, 0, 0, 0, 0, 0, 0, 0, 0, 0, 0, 0, 0],\n",
              " [0, 0, 0, 0, 0, 0, 0, 0, 0, 0, 0, 0, 0, 0, 0],\n",
              " [0, 0, 0, 0, 0, 0, 0, 0, 0, 0, 0, 0, 0, 0, 0],\n",
              " [0, 0, 0, 0, 0, 0, 0, 0, 0, 0, 0, 0, 0, 0, 0],\n",
              " [0, 0, 0, 0, 0, 0, 0, 0, 0, 0, 0, 0, 0, 0, 0],\n",
              " [0, 0, 0, 0, 0, 0, 0, 0, 0, 0, 0, 0, 0, 0, 0],\n",
              " [0, 0, 0, 0, 0, 0, 0, 0, 0, 0, 0, 0, 0, 0, 0],\n",
              " [0, 0, 0, 0, 0, 0, 0, 0, 0, 0, 0, 0, 0, 0, 0],\n",
              " [0, 0, 0, 0, 0, 0, 0, 0, 0, 0, 0, 0, 0, 0, 0],\n",
              " [0, 0, 0, 0, 0, 0, 0, 0, 0, 0, 0, 0, 0, 0, 0],\n",
              " [0, 0, 0, 0, 0, 0, 0, 0, 0, 0, 0, 0, 0, 0, 0],\n",
              " [0, 0, 0, 0, 0, 0, 0, 0, 0, 0, 0, 0, 0, 0, 0],\n",
              " [0, 0, 0, 0, 0, 0, 0, 0, 0, 0, 0, 0, 0, 0, 0]]"
            ]
          },
          "execution_count": 6,
          "metadata": {},
          "output_type": "execute_result"
        }
      ],
      "source": [
        "M"
      ]
    },
    {
      "cell_type": "markdown",
      "metadata": {
        "id": "R4bnI0fpUtD_"
      },
      "source": [
        "Con nuestra matriz `M` inicializada en ceros y las listas de aristas y vértices, ahora podemos crear nuestra matriz de adyacencia:"
      ]
    },
    {
      "cell_type": "code",
      "execution_count": 7,
      "metadata": {
        "id": "rb_YoB_tGxVr"
      },
      "outputs": [],
      "source": [
        "for a in aristas:\n",
        "    i1 = vertices.index(a[0])\n",
        "    i2 = vertices.index(a[1])\n",
        "    M[i1][i2] = a[2]\n",
        "    M[i2][i1] = a[2]"
      ]
    },
    {
      "cell_type": "code",
      "execution_count": 8,
      "metadata": {
        "colab": {
          "base_uri": "https://localhost:8080/"
        },
        "id": "GGERCT7qJCI_",
        "outputId": "d585cd12-6b91-4963-a105-ed45ab4b209c"
      },
      "outputs": [
        {
          "data": {
            "text/plain": [
              "[[0, 6, 0, 0, 0, 0, 0, 0, 0, 0, 0, 0, 0, 0, 0],\n",
              " [6, 0, 7, 0, 8, 0, 0, 0, 0, 0, 0, 0, 0, 0, 0],\n",
              " [0, 7, 0, 6, 0, 11, 0, 0, 0, 0, 0, 0, 0, 0, 0],\n",
              " [0, 0, 6, 0, 0, 0, 0, 0, 0, 0, 0, 0, 0, 0, 0],\n",
              " [0, 8, 0, 0, 0, 9, 0, 5, 0, 0, 4, 0, 0, 0, 0],\n",
              " [0, 0, 11, 0, 9, 0, 0, 0, 10, 0, 0, 0, 5, 0, 0],\n",
              " [0, 0, 0, 0, 0, 0, 0, 6, 0, 0, 0, 0, 0, 0, 0],\n",
              " [0, 0, 0, 0, 5, 0, 6, 0, 0, 0, 0, 0, 0, 0, 0],\n",
              " [0, 0, 0, 0, 0, 10, 0, 0, 0, 5, 0, 0, 0, 0, 0],\n",
              " [0, 0, 0, 0, 0, 0, 0, 0, 5, 0, 0, 0, 0, 0, 0],\n",
              " [0, 0, 0, 0, 4, 0, 0, 0, 0, 0, 0, 14, 0, 0, 0],\n",
              " [0, 0, 0, 0, 0, 0, 0, 0, 0, 0, 14, 0, 0, 9, 13],\n",
              " [0, 0, 0, 0, 0, 5, 0, 0, 0, 0, 0, 0, 0, 6, 0],\n",
              " [0, 0, 0, 0, 0, 0, 0, 0, 0, 0, 0, 9, 6, 0, 0],\n",
              " [0, 0, 0, 0, 0, 0, 0, 0, 0, 0, 0, 13, 0, 0, 0]]"
            ]
          },
          "execution_count": 8,
          "metadata": {},
          "output_type": "execute_result"
        }
      ],
      "source": [
        "M"
      ]
    },
    {
      "cell_type": "markdown",
      "metadata": {
        "id": "hN9WvuWWVcq0"
      },
      "source": [
        "Ahora creamos la función \n",
        "\n",
        "`dijktra(idx_origen, idx_destino)`\n",
        "\n",
        "que recibe como parámetros:\n",
        "\n",
        " - `idx_origen`: índice del vértice de origen respecto a la lista `aristas`.  \n",
        " \n",
        " - `idx_destino`: índice del vértice de destino respecto a la lista `aristas`.\n",
        "\n",
        "Dentro de la función , lo primero que hacemos es crear las listas `marcados` y `no_marcados` que representan los vértices ya marcados y los que no respectivamente. \n",
        "\n",
        "También creamos la lista `info_vertices`, que contiene un diccionario por cada vértice, ese diccionario nos guarda la siguiente información:\n",
        "- El nombre del vértice.\n",
        "- El camino desde el vértice de origen (se inicializa con el propio vértice de origen).\n",
        "- El tiempo (se inicializa con `sys.maxsize`, nuestro $∞$).\n",
        "\n",
        "Después agregamos el vértice de origen a marcados y lo quitamos de los no marcados.\n",
        "\n",
        "Luego creamos un bucle que se ejecuta mientras el vértice de destino no se encuentre en la lista de marcados. \n",
        "\n",
        "Dentro del bucle tomamos el vértice actual como el último de marcados. Luego vemos en su matriz de adyacencia la información de los vértices vecinos. Calculamos el tiempo desde el vértice de origen a cada vecino pasando por el vértice actual y si es menor que el tiempo que ya correspondía a ese vértice, actualizamos la información.\n",
        "\n",
        "Después revisamos la información de los vértices no marcados y elegimos el de menor tiempo para agregarlo a marcados y quitarlo de los no marcados.\n",
        "\n",
        "Una vez terminado el bucle, imprimimos el camino más corto.\n",
        "\n"
      ]
    },
    {
      "cell_type": "code",
      "execution_count": 9,
      "metadata": {
        "id": "Wjmp22SVdXzs"
      },
      "outputs": [],
      "source": [
        "def dijkstra(idx_origen, idx_destino):\n",
        "  \n",
        "  marcados = []\n",
        "  no_marcados = [v for v in vertices]\n",
        "  info_vertices=[ {\"v\": v ,\"camino\":[vertices[idx_origen]], \"tiempo\":sys.maxsize} for v in vertices]\n",
        "  \n",
        "  info_vertices[idx_origen][\"tiempo\"] = 0\n",
        "  marcados.append(vertices[idx_origen])\n",
        "  del no_marcados[vertices.index(marcados[-1])]\n",
        "\n",
        "  while vertices[idx_destino] not in marcados:\n",
        "    v_act = marcados[-1]\n",
        "    idx_act = vertices.index(v_act)\n",
        "  \n",
        "    for j in M[idx_act]:\n",
        "      if j != 0:\n",
        "        t = info_vertices[idx_act][\"tiempo\"] + j\n",
        "        pos = M[idx_act].index(j)\n",
        "        if info_vertices[pos][\"tiempo\"] > t:\n",
        "          info_vertices[pos][\"tiempo\"] = t\n",
        "          info_vertices[pos][\"camino\"] = info_vertices[idx_act][\"camino\"].copy()\n",
        "          info_vertices[pos][\"camino\"].append(vertices[pos])\n",
        "\n",
        "    minimo = sys.maxsize\n",
        "\n",
        "    for nm in no_marcados:\n",
        "      idx_nuevo = vertices.index(nm)\n",
        "      t = info_vertices[idx_nuevo][\"tiempo\"]\n",
        "      if t < minimo:\n",
        "        minimo = t\n",
        "        v_act = nm\n",
        "    marcados.append(v_act)\n",
        "    no_marcados.remove(v_act)   \n",
        "\n",
        "  print(f'El camino más corto es: {info_vertices[idx_destino][\"camino\"]}')"
      ]
    },
    {
      "cell_type": "markdown",
      "metadata": {
        "id": "7UiZAz6vdoS6"
      },
      "source": [
        "Pedimos al usuario que elija el vértice de origen y el vértice de destino."
      ]
    },
    {
      "cell_type": "code",
      "execution_count": 18,
      "metadata": {
        "colab": {
          "base_uri": "https://localhost:8080/"
        },
        "id": "_nsoZw9Fq0y-",
        "outputId": "cdc114ef-1348-4792-db0b-b63ade400fdf"
      },
      "outputs": [
        {
          "name": "stdout",
          "output_type": "stream",
          "text": [
            "1. Buenavista\n",
            "2. Guerrero\n",
            "3. Garibaldi\n",
            "4. Lagunilla\n",
            "5. Hidalgo\n",
            "6. Bellas Artes\n",
            "7. San Cosme\n",
            "8. Revolucion\n",
            "9. Allende\n",
            "10. Zocalo\n",
            "11. Juarez\n",
            "12. Balderas\n",
            "13. San Juan de Letran\n",
            "14. Salto del agua\n",
            "15. Cuauhtemoc\n",
            "1. Buenavista\n",
            "2. Guerrero\n",
            "3. Garibaldi\n",
            "4. Lagunilla\n",
            "5. Hidalgo\n",
            "6. Bellas Artes\n",
            "7. San Cosme\n",
            "8. Revolucion\n",
            "9. Allende\n",
            "10. Zocalo\n",
            "11. Juarez\n",
            "12. Balderas\n",
            "13. San Juan de Letran\n",
            "14. Salto del agua\n",
            "15. Cuauhtemoc\n",
            "El camino más corto es: ['Garibaldi', 'Bellas Artes', 'San Juan de Letran', 'Salto del agua', 'Balderas']\n"
          ]
        }
      ],
      "source": [
        "i = 1\n",
        "for v in vertices:\n",
        "  print(f\"{i}. {v}\")\n",
        "  i+=1\n",
        "\n",
        "\n",
        "while True:\n",
        "  entrada = input(\"Elige el origen:\")\n",
        "  if entrada.isdigit():\n",
        "    o = int(entrada) - 1  \n",
        "    if 0 <= o < len(vertices):\n",
        "      break  \n",
        "\n",
        "i = 1\n",
        "for v in vertices:\n",
        "  print(f\"{i}. {v}\")\n",
        "  i+=1\n",
        "\n",
        "while True:\n",
        "  entrada = input(\"Elige el destino:\")\n",
        "  if entrada.isdigit():\n",
        "    d = int(entrada) - 1  \n",
        "    if 0 <= d < len(vertices):\n",
        "      break  \n",
        "\n",
        "\n",
        "\n",
        "dijkstra(o,d)"
      ]
    }
  ],
  "metadata": {
    "colab": {
      "authorship_tag": "ABX9TyMK4VWxtPLKlVabRekeoZSO",
      "collapsed_sections": [],
      "include_colab_link": true,
      "provenance": []
    },
    "kernelspec": {
      "display_name": "Python 3.8.10 64-bit",
      "language": "python",
      "name": "python3"
    },
    "language_info": {
      "codemirror_mode": {
        "name": "ipython",
        "version": 3
      },
      "file_extension": ".py",
      "mimetype": "text/x-python",
      "name": "python",
      "nbconvert_exporter": "python",
      "pygments_lexer": "ipython3",
      "version": "3.8.10"
    },
    "vscode": {
      "interpreter": {
        "hash": "916dbcbb3f70747c44a77c7bcd40155683ae19c65e1c03b4aa3499c5328201f1"
      }
    }
  },
  "nbformat": 4,
  "nbformat_minor": 0
}
